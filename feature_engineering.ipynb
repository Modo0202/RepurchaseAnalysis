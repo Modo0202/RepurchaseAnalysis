{
 "cells": [
  {
   "cell_type": "code",
   "execution_count": null,
   "source": [
    "import gc # gc ---垃圾回收器接口\r\n",
    "import pandas as pd\r\n",
    "import numpy as np"
   ],
   "outputs": [],
   "metadata": {}
  },
  {
   "cell_type": "code",
   "execution_count": null,
   "source": [
    "LOCAL_QUICK = True\r\n",
    "# LOCAL_QUICK = False\r\n",
    "\r\n",
    "sample_persent = 0.1\r\n",
    "\r\n",
    "# MORE_FE = False\r\n",
    "MORE_FE = True\r\n",
    "\r\n",
    "FE_V1 = False if MORE_FE else True"
   ],
   "outputs": [],
   "metadata": {}
  },
  {
   "cell_type": "code",
   "execution_count": null,
   "source": [
    "# 文件地址\r\n",
    "filepath = 'F:/OneDrive/Learning/DataAnalyticsProject/RePurchaseAnalysis/data_sets/'\r\n",
    "# 用户行为日志\r\n",
    "user_log = pd.read_csv(filepath + 'user_log_format1.csv')\r\n",
    "# 用户画像\r\n",
    "user_info = pd.read_csv(filepath + 'user_info_format1.csv')\r\n",
    "# 训练数据\r\n",
    "train1 = pd.read_csv(filepath + 'train_format1.csv')\r\n",
    "# 测试数据\r\n",
    "test1 = pd.read_csv(filepath + 'test_format1.csv')"
   ],
   "outputs": [],
   "metadata": {}
  },
  {
   "cell_type": "code",
   "execution_count": null,
   "source": [
    "# # %%time\r\n",
    "# # 采样测试\r\n",
    "# if LOCAL_QUICK:\r\n",
    "#     print('Local quick test, rate is {:.1f}'.format(sample_persent))\r\n",
    "#     user_log = user_log.sample(int(len(user_log) * sample_persent))\r\n",
    "#     user_info = user_info.sample(int(len(user_info) * sample_persent))\r\n",
    "#     train1 = train1.sample(int(len(train1) * sample_persent))\r\n",
    "# else:\r\n",
    "#     print('All sample train')\r\n",
    "\r\n",
    "for df in [user_log, user_info, train1, test1]:\r\n",
    "    print(list(df.columns))\r\n",
    "    print(df.shape)\r\n",
    "\r\n",
    "user_log.rename(columns={'seller_id': 'merchant_id'}, inplace=True)"
   ],
   "outputs": [],
   "metadata": {}
  },
  {
   "cell_type": "code",
   "execution_count": null,
   "source": [
    "train1['origin'] = 'train'\r\n",
    "test1['origin'] = 'test'\r\n",
    "matrix = pd.concat([train1, test1], ignore_index=True, sort=True)\r\n",
    "matrix.drop(['prob'], axis=1, inplace=True)\r\n",
    "matrix = matrix.merge(user_info, on='user_id', how='left')\r\n",
    "\r\n",
    "del df, train1, test1, user_info\r\n",
    "gc.collect() # 若被调用时不包含参数，则启动完全的垃圾回收"
   ],
   "outputs": [],
   "metadata": {}
  },
  {
   "cell_type": "code",
   "execution_count": null,
   "source": [
    "# %%time\r\n",
    "# 格式化\r\n",
    "user_log['user_id'] = user_log['user_id'].astype('int32')\r\n",
    "user_log['merchant_id'] = user_log['merchant_id'].astype('int32')\r\n",
    "user_log['item_id'] = user_log['item_id'].astype('int32')\r\n",
    "user_log['brand_id'].fillna(0, inplace=True)\r\n",
    "user_log['brand_id'] = user_log['brand_id'].astype('int32')\r\n",
    "user_log['time_stamp'] = pd.to_datetime(user_log['time_stamp'], format='%H%M')\r\n",
    "\r\n",
    "# 缺失值填充\r\n",
    "matrix['age_range'].fillna(0, inplace=True)\r\n",
    "matrix['gender'].fillna(2, inplace=True)\r\n",
    "\r\n",
    "# # gender 用众数填充（表现更差？）\r\n",
    "# matrix['gender'].fillna(matrix['gender'].mode()[0], inplace=True)\r\n",
    "# # 年龄用中位数填充\r\n",
    "# matrix['age_range'].fillna(matrix['age_range'].median(), inplace=True)\r\n",
    "\r\n",
    "matrix['age_range'] = matrix['age_range'].astype('int8')\r\n",
    "matrix['gender'] = matrix['gender'].astype('int8')\r\n",
    "matrix['label'] = matrix['label'].astype('str')\r\n",
    "matrix['user_id'] = matrix['user_id'].astype('int32')\r\n",
    "matrix['merchant_id'] = matrix['merchant_id'].astype('int32')\r\n"
   ],
   "outputs": [],
   "metadata": {}
  },
  {
   "cell_type": "code",
   "execution_count": null,
   "source": [
    "matrix = matrix[['origin', 'merchant_id', 'user_id', 'label', 'age_range', 'gender']]\r\n",
    "matrix.head()"
   ],
   "outputs": [],
   "metadata": {}
  },
  {
   "cell_type": "code",
   "execution_count": null,
   "source": [
    "## 特征处理\r\n",
    "## user特征处理\r\n",
    "groups = user_log.groupby(['user_id'])\r\n",
    "\r\n",
    "# 用户交互行为数量 u1\r\n",
    "temp = groups.size().reset_index().rename(columns={0:'u1'})\r\n",
    "matrix = matrix.merge(temp, how='left', on='user_id')\r\n",
    "\r\n",
    "# 使用agg基于列的聚合操作，统计唯一值个数 item_id, cat_id, merchant_id, brand_id\r\n",
    "temp = groups['item_id'].agg([('u2', 'nunique')]).reset_index()\r\n",
    "matrix = matrix.merge(temp, how='left', on='user_id')\r\n",
    "\r\n",
    "temp = groups['cat_id'].agg([('u3', 'nunique')]).reset_index()\r\n",
    "matrix = matrix.merge(temp, how='left', on='user_id')\r\n",
    "\r\n",
    "temp = groups['merchant_id'].agg([('u4', 'nunique')]).reset_index()\r\n",
    "matrix = matrix.merge(temp, how='left', on='user_id')\r\n",
    "\r\n",
    "temp = groups['brand_id'].agg([('u5', 'nunique')]).reset_index()\r\n",
    "matrix = matrix.merge(temp, how='left', on='user_id')\r\n",
    "\r\n",
    "# 时间间隔特征 u6 按照小时\r\n",
    "temp = groups['time_stamp'].agg([('F_time', 'min'), ('L_time', 'max')]).reset_index()\r\n",
    "temp['u6'] = (temp['L_time'] - temp['F_time']).dt.seconds / 3600\r\n",
    "matrix = matrix.merge(temp[['user_id', 'u6']], how='left', on='user_id')\r\n",
    "\r\n",
    "# 统计操作类型为0,1,2,3的个数\r\n",
    "temp = groups['action_type'].value_counts().unstack().reset_index().rename(columns={0:'u7', 1:'u8', 2:'u9', 3:'u10'})\r\n",
    "matrix = matrix.merge(temp, how='left', on='user_id')\r\n",
    "\r\n",
    "del temp\r\n",
    "gc.collect()"
   ],
   "outputs": [],
   "metadata": {}
  },
  {
   "cell_type": "code",
   "execution_count": null,
   "source": [
    "matrix.head(10)\r\n",
    "matrix.isnull().sum()"
   ],
   "outputs": [],
   "metadata": {}
  },
  {
   "cell_type": "code",
   "execution_count": null,
   "source": [
    "## 商家特征处理\r\n",
    "groups = user_log.groupby(['merchant_id'])\r\n",
    "# 商家被交互行为的数量 m1\r\n",
    "temp = groups.size().reset_index().rename(columns={0:'m1'})\r\n",
    "matrix = matrix.merge(temp, how='left', on='merchant_id')\r\n",
    "\r\n",
    "# 统计商家被交互的user_id,item_id,cat_id,brand_id唯一值\r\n",
    "temp = groups['user_id', 'item_id', 'cat_id', 'brand_id'].nunique().reset_index().rename(columns={'user_id':'m2', 'item_id':'m3', 'cat_id':'m4', 'brand_id':'m5'})\r\n",
    "matrix = matrix.merge(temp, how='left', on='merchant_id')\r\n",
    "\r\n",
    "# 统计商家被交互action_type唯一值\r\n",
    "temp = groups['action_type'].value_counts().unstack().reset_index().rename(columns={0:'m6', 1:'m7', 2:'m8', 3:'m9'})\r\n",
    "matrix = matrix.merge(temp, on='merchant_id', how = 'left')\r\n",
    "\r\n",
    "del temp\r\n",
    "gc.collect()"
   ],
   "outputs": [],
   "metadata": {}
  },
  {
   "cell_type": "code",
   "execution_count": null,
   "source": [
    "matrix.head()"
   ],
   "outputs": [],
   "metadata": {}
  },
  {
   "cell_type": "markdown",
   "source": [
    "label: 取值集合为{0, 1, -1, NULL}; 取1表示'userid'是'merchantid'的重复买家，取0则反之。取-1表示'user_id'不是给定商家的新客户，因此不在我们预测范围内，但这些记录可能会提供额外信息。测试集这一部分需要预测，因此为NULL。"
   ],
   "metadata": {}
  },
  {
   "cell_type": "code",
   "execution_count": null,
   "source": [
    "# 按照merchant_id统计随机负采样的个数\r\n",
    "train2 = pd.read_csv(filepath + 'train_format2.csv')\r\n",
    "temp = train2[train2['label'] == -1].groupby(['merchant_id']).size().reset_index().rename(columns={0:'m10'})\r\n",
    "matrix = matrix.merge(temp, how='left', on='merchant_id')\r\n",
    "\r\n",
    "del train2, temp\r\n",
    "gc.collect()"
   ],
   "outputs": [],
   "metadata": {}
  },
  {
   "cell_type": "code",
   "execution_count": null,
   "source": [
    "## 用户特征+商户特征\r\n",
    "groups = user_log.groupby(['user_id', 'merchant_id'])\r\n",
    "temp = groups.size().reset_index().rename(columns={0:'um1'})\r\n",
    "matrix = matrix.merge(temp, how='left', on=['user_id', 'merchant_id'])\r\n",
    "\r\n",
    "temp = groups['item_id', 'cat_id', 'brand_id'].nunique().reset_index().rename(columns={'item_id':'um2', 'cat_id':'um3', 'brand_id':'um4'})\r\n",
    "matrix = matrix.merge(temp, how='left', on=['user_id', 'merchant_id'])\r\n",
    "\r\n",
    "temp = groups['action_type'].value_counts().unstack().reset_index().rename(columns={0:'um5', 1:'um6', 2:'um7', 3:'um8'})\r\n",
    "matrix = matrix.merge(temp, how='left', on=['user_id', 'merchant_id'])\r\n",
    "\r\n",
    "temp = groups['time_stamp'].agg([('frist', 'min'), ('last', 'max')]).reset_index()\r\n",
    "temp['um9'] = (temp['last'] - temp['frist']).dt.seconds/3600\r\n",
    "temp.drop(['frist', 'last'], axis=1, inplace=True)\r\n",
    "matrix = matrix.merge(temp, how='left', on=['user_id', 'merchant_id'])\r\n",
    "\r\n",
    "del temp, user_log\r\n",
    "gc.collect()"
   ],
   "outputs": [],
   "metadata": {}
  },
  {
   "cell_type": "code",
   "execution_count": null,
   "source": [
    "matrix['r1'] = matrix['u9'] / matrix['u7'] # 用户购买点击比\r\n",
    "matrix['r2'] = matrix['m8'] / matrix['m6'] # 商户购买点击比\r\n",
    "matrix['r3'] = matrix['um7'] / matrix['um5'] # 不同用户不同商户购买点击比"
   ],
   "outputs": [],
   "metadata": {}
  },
  {
   "cell_type": "code",
   "execution_count": null,
   "source": [
    "matrix.fillna(0, inplace=True)\r\n"
   ],
   "outputs": [],
   "metadata": {}
  },
  {
   "cell_type": "code",
   "execution_count": null,
   "source": [
    "## 修改age_range字段名称为 age_0, age_1, age_2... age_8\r\n",
    "temp = pd.get_dummies(matrix['age_range'], prefix='age')\r\n",
    "matrix = pd.concat([matrix, temp], axis=1)\r\n",
    "temp = pd.get_dummies(matrix['gender'], prefix='g')\r\n",
    "matrix = pd.concat([matrix, temp], axis=1)\r\n",
    "matrix.drop(['age_range', 'gender'], axis=1, inplace=True)\r\n",
    "\r\n",
    "del temp\r\n",
    "gc.collect()"
   ],
   "outputs": [],
   "metadata": {}
  },
  {
   "cell_type": "code",
   "execution_count": null,
   "source": [
    "## 训练、测试特征集保存\r\n",
    "train_data = matrix[matrix['origin'] == 'train'].drop(['origin'], axis=1)\r\n",
    "test_data = matrix[matrix['origin'] == 'test'].drop(['label', 'origin'], axis=1)\r\n",
    "\r\n",
    "if not LOCAL_QUICK:\r\n",
    "    if FE_V1:\r\n",
    "        train_data.to_csv('train_data.csv')\r\n",
    "        test_data.to_csv('test_data.csv')\r\n",
    "    if MORE_FE:\r\n",
    "        train_data.to_csv('train_data_moreFE.csv')\r\n",
    "        test_data.to_csv('test_data_moreFE.csv')\r\n",
    "\r\n",
    "del matrix\r\n",
    "gc.collect()"
   ],
   "outputs": [],
   "metadata": {}
  },
  {
   "cell_type": "code",
   "execution_count": null,
   "source": [
    "del user_log\r\n",
    "gc.collect()"
   ],
   "outputs": [],
   "metadata": {}
  },
  {
   "cell_type": "code",
   "execution_count": null,
   "source": [],
   "outputs": [],
   "metadata": {}
  }
 ],
 "metadata": {
  "orig_nbformat": 4,
  "language_info": {
   "name": "python",
   "version": "3.7.6",
   "mimetype": "text/x-python",
   "codemirror_mode": {
    "name": "ipython",
    "version": 3
   },
   "pygments_lexer": "ipython3",
   "nbconvert_exporter": "python",
   "file_extension": ".py"
  },
  "kernelspec": {
   "name": "python3",
   "display_name": "Python 3.7.6 64-bit ('base': conda)"
  },
  "interpreter": {
   "hash": "4027a6336bc1541d1b89071d8afeb287e065fbc38311cf264ccc3ebf86fa9ab8"
  }
 },
 "nbformat": 4,
 "nbformat_minor": 2
}