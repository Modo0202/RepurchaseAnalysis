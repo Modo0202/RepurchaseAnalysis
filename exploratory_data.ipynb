{
 "cells": [
  {
   "cell_type": "code",
   "execution_count": 1,
   "source": [
    "import os\r\n",
    "import gc\r\n",
    "import numpy as np\r\n",
    "import pandas as pd \r\n",
    "import matplotlib.pyplot as plt\r\n",
    "plt.rcParams[\"font.sans-serif\"] = \"SimHei\"\r\n",
    "import seaborn as sns"
   ],
   "outputs": [],
   "metadata": {}
  },
  {
   "cell_type": "code",
   "execution_count": 2,
   "source": [
    "# 文件地址\r\n",
    "filepath = os.getcwd() + '/data_sets/'\r\n",
    "# 用户行为日志\r\n",
    "user_log = pd.read_csv(filepath + 'user_log_format1.csv')\r\n",
    "# 用户画像\r\n",
    "user_info = pd.read_csv(filepath + 'user_info_format1.csv')\r\n",
    "# 训练数据\r\n",
    "train1 = pd.read_csv(filepath + 'train_format1.csv')\r\n",
    "# 测试数据\r\n",
    "test1 = pd.read_csv(filepath + 'test_format1.csv')"
   ],
   "outputs": [],
   "metadata": {}
  },
  {
   "cell_type": "code",
   "execution_count": 3,
   "source": [
    "for df in [user_log, user_info, train1, test1]:\r\n",
    "    print(df.shape)\r\n",
    "    print(list(df.columns))\r\n",
    "    \r\n",
    "user_log.rename(columns={'seller_id': 'merchant_id'}, inplace=True)\r\n",
    "\r\n",
    "del df\r\n",
    "gc.collect()"
   ],
   "outputs": [
    {
     "output_type": "stream",
     "name": "stdout",
     "text": [
      "(54925330, 7)\n",
      "['user_id', 'item_id', 'cat_id', 'seller_id', 'brand_id', 'time_stamp', 'action_type']\n",
      "(424170, 3)\n",
      "['user_id', 'age_range', 'gender']\n",
      "(260864, 3)\n",
      "['user_id', 'merchant_id', 'label']\n",
      "(261477, 3)\n",
      "['user_id', 'merchant_id', 'prob']\n"
     ]
    },
    {
     "output_type": "execute_result",
     "data": {
      "text/plain": [
       "20"
      ]
     },
     "metadata": {},
     "execution_count": 3
    }
   ],
   "metadata": {}
  },
  {
   "cell_type": "code",
   "execution_count": null,
   "source": [
    "# del user_log, user_info, train1, test1\r\n",
    "# gc.collect()\r\n",
    "\r\n",
    "# # 训练数据\r\n",
    "# train = pd.read_csv(filepath + 'train_format2.csv')\r\n",
    "# # 测试数据\r\n",
    "# test = pd.read_csv(filepath + 'test_format2.csv')"
   ],
   "outputs": [],
   "metadata": {}
  },
  {
   "cell_type": "code",
   "execution_count": null,
   "source": [
    "# for df in [train, test]:\r\n",
    "#     print(df.shape)\r\n",
    "#     print(list(df.columns))\r\n",
    "\r\n",
    "# del df, train, test\r\n",
    "# gc.collect()"
   ],
   "outputs": [],
   "metadata": {}
  },
  {
   "cell_type": "code",
   "execution_count": null,
   "source": [
    "user_info.info()\r\n",
    "user_info.isnull().sum()"
   ],
   "outputs": [],
   "metadata": {}
  },
  {
   "cell_type": "code",
   "execution_count": null,
   "source": [
    "user_info['gender1'] = user_info['gender'].replace({0:'女性', 1:'男性', 2:'未知'})\r\n",
    "user_info['gender1'].fillna('空值',inplace=True)\r\n",
    "gender = user_info['gender1'].value_counts().reset_index().rename(columns={'index':'gender', 'gender1':'counts'})"
   ],
   "outputs": [],
   "metadata": {}
  },
  {
   "cell_type": "code",
   "execution_count": null,
   "source": [
    "ax = gender.plot.bar(x='gender', y='counts', rot=0) # pandas.DataFrame.plot.bar()"
   ],
   "outputs": [],
   "metadata": {}
  },
  {
   "cell_type": "code",
   "execution_count": null,
   "source": [
    "# user_info['age_range'].value_counts()\r\n",
    "user_info['age_range1'] = user_info['age_range'].replace({0:'未知', 1: '<18', 2: '[18,24]', 3: '[25,29]', 4: '[30,34]', 5: '[35,39]', 6: '[40,49]', 7 :'[50,59]', 8:'>=60'})\r\n",
    "user_info['age_range1'].fillna('空值',inplace=True)\r\n",
    "age_range = user_info['age_range1'].value_counts().reset_index().rename(columns={'index':'age_range', 'age_range1':'counts'})\r\n",
    "age_range"
   ],
   "outputs": [],
   "metadata": {}
  },
  {
   "cell_type": "code",
   "execution_count": null,
   "source": [
    "ax = age_range.plot.bar(x='age_range', y='counts', rot=0)"
   ],
   "outputs": [],
   "metadata": {}
  },
  {
   "cell_type": "code",
   "execution_count": null,
   "source": [
    "user_info.head()\r\n",
    "pd.crosstab(user_info.gender1, user_info.age_range1, margins=True)"
   ],
   "outputs": [],
   "metadata": {}
  },
  {
   "cell_type": "code",
   "execution_count": null,
   "source": [
    "user_log.info()\r\n",
    "user_log.isnull().sum()"
   ],
   "outputs": [],
   "metadata": {}
  },
  {
   "cell_type": "code",
   "execution_count": null,
   "source": [
    "user_log['brand_id'].fillna(0, inplace=True)\r\n",
    "user_log = user_log.apply(lambda col: col.astype('int32'))"
   ],
   "outputs": [],
   "metadata": {}
  },
  {
   "cell_type": "code",
   "execution_count": null,
   "source": [
    "user_log.action_type.value_counts()\r\n",
    "action_type = user_log.action_type.value_counts().reset_index().rename(columns={'index':'action', 'action_type':'type_count'})\r\n",
    "ax = action_type.plot.bar(x='action', y='type_count', rot=0)"
   ],
   "outputs": [],
   "metadata": {}
  },
  {
   "cell_type": "code",
   "execution_count": 4,
   "source": [
    "train_user_info = train1.merge(user_info, on='user_id', how='left')\r\n",
    "\r\n",
    "del train1, test1, user_info\r\n",
    "gc.collect() "
   ],
   "outputs": [
    {
     "output_type": "execute_result",
     "data": {
      "text/plain": [
       "20"
      ]
     },
     "metadata": {},
     "execution_count": 4
    }
   ],
   "metadata": {}
  },
  {
   "cell_type": "code",
   "execution_count": 8,
   "source": [
    "train_user_info.columns"
   ],
   "outputs": [
    {
     "output_type": "execute_result",
     "data": {
      "text/plain": [
       "Index(['user_id', 'merchant_id', 'label', 'age_range', 'gender', 'flag'], dtype='object')"
      ]
     },
     "metadata": {},
     "execution_count": 8
    }
   ],
   "metadata": {}
  },
  {
   "cell_type": "code",
   "execution_count": 6,
   "source": [
    "train_user_info.isnull().sum()"
   ],
   "outputs": [
    {
     "output_type": "execute_result",
     "data": {
      "text/plain": [
       "user_id           0\n",
       "merchant_id       0\n",
       "label             0\n",
       "age_range      1253\n",
       "gender         3711\n",
       "dtype: int64"
      ]
     },
     "metadata": {},
     "execution_count": 6
    }
   ],
   "metadata": {}
  },
  {
   "cell_type": "code",
   "execution_count": 7,
   "source": [
    "train_user_info['flag'] = 'train'"
   ],
   "outputs": [],
   "metadata": {}
  },
  {
   "cell_type": "code",
   "execution_count": 9,
   "source": [
    "cols = ['flag', 'merchant_id', 'user_id', 'age_range', 'gender', 'label']\r\n",
    "train_user_info = train_user_info[cols]"
   ],
   "outputs": [],
   "metadata": {}
  },
  {
   "cell_type": "code",
   "execution_count": 10,
   "source": [
    "train_user_log = train_user_info[['flag', 'merchant_id', 'user_id']].merge(user_log, how='left', on=['merchant_id', 'user_id'])"
   ],
   "outputs": [],
   "metadata": {}
  },
  {
   "cell_type": "code",
   "execution_count": 12,
   "source": [
    "train_user_log.columns\r\n",
    "train_user_log.isnull().sum()"
   ],
   "outputs": [
    {
     "output_type": "execute_result",
     "data": {
      "text/plain": [
       "flag              0\n",
       "merchant_id       0\n",
       "user_id           0\n",
       "item_id           0\n",
       "cat_id            0\n",
       "brand_id       7339\n",
       "time_stamp        0\n",
       "action_type       0\n",
       "dtype: int64"
      ]
     },
     "metadata": {},
     "execution_count": 12
    }
   ],
   "metadata": {}
  },
  {
   "cell_type": "code",
   "execution_count": 13,
   "source": [
    "train_user_log.to_csv(os.getcwd() + '/data_processing/train_user_log.csv', index=False)"
   ],
   "outputs": [],
   "metadata": {}
  },
  {
   "cell_type": "code",
   "execution_count": 14,
   "source": [
    "train_user_info.to_csv(os.getcwd() + '/data_processing/train_user_info.csv', index=False)"
   ],
   "outputs": [],
   "metadata": {}
  },
  {
   "cell_type": "code",
   "execution_count": null,
   "source": [],
   "outputs": [],
   "metadata": {}
  }
 ],
 "metadata": {
  "orig_nbformat": 4,
  "language_info": {
   "name": "python",
   "version": "3.7.6",
   "mimetype": "text/x-python",
   "codemirror_mode": {
    "name": "ipython",
    "version": 3
   },
   "pygments_lexer": "ipython3",
   "nbconvert_exporter": "python",
   "file_extension": ".py"
  },
  "kernelspec": {
   "name": "python3",
   "display_name": "Python 3.7.6 64-bit ('base': conda)"
  },
  "interpreter": {
   "hash": "4027a6336bc1541d1b89071d8afeb287e065fbc38311cf264ccc3ebf86fa9ab8"
  }
 },
 "nbformat": 4,
 "nbformat_minor": 2
}