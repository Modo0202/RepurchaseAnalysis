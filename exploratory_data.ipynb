{
 "cells": [
  {
   "cell_type": "code",
   "execution_count": null,
   "source": [
    "import os\r\n",
    "import gc\r\n",
    "import numpy as np\r\n",
    "import pandas as pd \r\n",
    "import matplotlib.pyplot as plt\r\n",
    "plt.rcParams[\"font.sans-serif\"] = \"SimHei\"\r\n",
    "import seaborn as sns"
   ],
   "outputs": [],
   "metadata": {}
  },
  {
   "cell_type": "code",
   "execution_count": null,
   "source": [
    "# 文件地址\r\n",
    "filepath = os.getcwd() + '/data_sets/'\r\n",
    "# 用户行为日志\r\n",
    "user_log = pd.read_csv(filepath + 'user_log_format1.csv')\r\n",
    "# 用户画像\r\n",
    "user_info = pd.read_csv(filepath + 'user_info_format1.csv')\r\n",
    "# 训练数据\r\n",
    "train1 = pd.read_csv(filepath + 'train_format1.csv')\r\n",
    "# 测试数据\r\n",
    "test1 = pd.read_csv(filepath + 'test_format1.csv')"
   ],
   "outputs": [],
   "metadata": {}
  },
  {
   "cell_type": "markdown",
   "source": [
    "user_id: 购物者的唯一ID编码；\r\n",
    "item_id: 商品的唯一编码；\r\n",
    "cat_id: 商品所属品类的唯一编码；\r\n",
    "merchant_id: 商家的唯一ID编码；\r\n",
    "brand_id: 商品品牌的唯一编码；\r\n",
    "time_tamp: 购买时间（格式：mmdd）；\r\n",
    "action_type: 包含{0, 1, 2, 3}，0表示单击，1表示添加到购物车，2表示购买，3表示添加到收藏夹；"
   ],
   "metadata": {}
  },
  {
   "cell_type": "markdown",
   "source": [
    "user_id: 购物者的唯一ID编码；\r\n",
    "merchant_id: 商家的唯一ID编码；\r\n",
    "label: 包含{0, 1}，1表示重复买家，0表示非重复买家。测试集这一部分需要预测，因此为空。"
   ],
   "metadata": {}
  },
  {
   "cell_type": "markdown",
   "source": [
    "age_range：用户年龄范围，<18岁为1；[18,24]为2； [25,29]为3； [30,34]为4；[35,39]为5；[40,49]为6； >= 50 时为7和8; 0和NULL表示未知\r\n",
    "\t\r\n",
    "gender：用户性别，0表示女性，1表示男性，2和NULL表示未知"
   ],
   "metadata": {}
  },
  {
   "cell_type": "code",
   "execution_count": null,
   "source": [
    "for df in [user_log, user_info, train1, test1]:\r\n",
    "    print(df.shape)\r\n",
    "    print(list(df.columns))\r\n",
    "    \r\n",
    "user_log.rename(columns={'seller_id': 'merchant_id'}, inplace=True)\r\n",
    "\r\n",
    "del df\r\n",
    "gc.collect()"
   ],
   "outputs": [],
   "metadata": {}
  },
  {
   "cell_type": "code",
   "execution_count": null,
   "source": [
    "user_info.info()\r\n",
    "user_info.isnull().sum()"
   ],
   "outputs": [],
   "metadata": {}
  },
  {
   "cell_type": "code",
   "execution_count": null,
   "source": [
    "user_info['gender1'] = user_info['gender'].replace({0:'女性', 1:'男性', 2:'未知'})\r\n",
    "user_info['gender1'].fillna('空值',inplace=True)\r\n",
    "gender = user_info['gender1'].value_counts().reset_index().rename(columns={'index':'gender', 'gender1':'counts'})"
   ],
   "outputs": [],
   "metadata": {}
  },
  {
   "cell_type": "code",
   "execution_count": null,
   "source": [
    "ax = gender.plot.bar(x='gender', y='counts', rot=0) # pandas.DataFrame.plot.bar()"
   ],
   "outputs": [],
   "metadata": {}
  },
  {
   "cell_type": "code",
   "execution_count": null,
   "source": [
    "# user_info['age_range'].value_counts()\r\n",
    "user_info['age_range1'] = user_info['age_range'].replace({0:'未知', 1: '<18', 2: '[18,24]', 3: '[25,29]', 4: '[30,34]', 5: '[35,39]', 6: '[40,49]', 7 :'[50,59]', 8:'>=60'})\r\n",
    "user_info['age_range1'].fillna('空值',inplace=True)\r\n",
    "age_range = user_info['age_range1'].value_counts().reset_index().rename(columns={'index':'age_range', 'age_range1':'counts'})\r\n",
    "age_range"
   ],
   "outputs": [],
   "metadata": {}
  },
  {
   "cell_type": "code",
   "execution_count": null,
   "source": [
    "ax = age_range.plot.bar(x='age_range', y='counts', rot=0)"
   ],
   "outputs": [],
   "metadata": {}
  },
  {
   "cell_type": "code",
   "execution_count": null,
   "source": [
    "user_info.head()\r\n",
    "pd.crosstab(user_info.gender1, user_info.age_range1, margins=True)"
   ],
   "outputs": [],
   "metadata": {}
  },
  {
   "cell_type": "code",
   "execution_count": null,
   "source": [
    "user_log.info()\r\n",
    "user_log.isnull().sum()"
   ],
   "outputs": [],
   "metadata": {}
  },
  {
   "cell_type": "code",
   "execution_count": null,
   "source": [
    "user_log['brand_id'].fillna(0, inplace=True)\r\n",
    "user_log = user_log.apply(lambda col: col.astype('int32'))"
   ],
   "outputs": [],
   "metadata": {}
  },
  {
   "cell_type": "code",
   "execution_count": null,
   "source": [
    "user_log.action_type.value_counts()\r\n",
    "action_type = user_log.action_type.value_counts().reset_index().rename(columns={'index':'action', 'action_type':'type_count'})\r\n",
    "ax = action_type.plot.bar(x='action', y='type_count', rot=0)"
   ],
   "outputs": [],
   "metadata": {}
  },
  {
   "cell_type": "code",
   "execution_count": null,
   "source": [
    "train1['data_flag'] = 'train'\r\n",
    "test1['data_flag'] = 'test'\r\n",
    "matrix = pd.concat([train1, test1], ignore_index=True, sort=True)\r\n",
    "matrix.drop(['prob'], axis=1, inplace=True)\r\n",
    "matrix = matrix.merge(user_info, on='user_id', how='left')\r\n",
    "\r\n",
    "del train1, test1, user_info\r\n",
    "gc.collect() # 若被调用时不包含参数，则启动完全的垃圾回收"
   ],
   "outputs": [],
   "metadata": {}
  }
 ],
 "metadata": {
  "orig_nbformat": 4,
  "language_info": {
   "name": "python",
   "version": "3.7.6",
   "mimetype": "text/x-python",
   "codemirror_mode": {
    "name": "ipython",
    "version": 3
   },
   "pygments_lexer": "ipython3",
   "nbconvert_exporter": "python",
   "file_extension": ".py"
  },
  "kernelspec": {
   "name": "python3",
   "display_name": "Python 3.7.6 64-bit ('base': conda)"
  },
  "interpreter": {
   "hash": "4027a6336bc1541d1b89071d8afeb287e065fbc38311cf264ccc3ebf86fa9ab8"
  }
 },
 "nbformat": 4,
 "nbformat_minor": 2
}